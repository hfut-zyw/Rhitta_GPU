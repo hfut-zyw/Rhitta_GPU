{
 "cells": [
  {
   "cell_type": "markdown",
   "id": "f72f2180",
   "metadata": {},
   "source": [
    "# 案例7：使用ResNet_simple对Mnist做分类"
   ]
  },
  {
   "cell_type": "code",
   "execution_count": 1,
   "id": "243ce808",
   "metadata": {},
   "outputs": [],
   "source": [
    "import sys\n",
    "sys.path.append(r\"D:\\Rhitta_GPU\")\n",
    "import numpy as np\n",
    "import cupy as cp\n",
    "import rhitta.nn as nn\n",
    "from sklearn.preprocessing import OneHotEncoder\n",
    "onehot_encoder = OneHotEncoder(sparse_output=False)"
   ]
  },
  {
   "cell_type": "markdown",
   "id": "6edd2ba0",
   "metadata": {},
   "source": [
    "### 第一步：载入数据集"
   ]
  },
  {
   "cell_type": "code",
   "execution_count": 2,
   "id": "e6bfc027",
   "metadata": {},
   "outputs": [
    {
     "data": {
      "text/plain": [
       "((60000, 784), (60000,), (60000, 10))"
      ]
     },
     "execution_count": 2,
     "metadata": {},
     "output_type": "execute_result"
    }
   ],
   "source": [
    "loader=nn.MnistLoader()\n",
    "train_x,number_labels=loader.load(r\"D:\\Rhitta_GPU\\data\\dataset\")\n",
    "labels = cp.array(onehot_encoder.fit_transform(cp.asnumpy(number_labels).reshape(-1, 1)))\n",
    "\n",
    "train_x.shape,number_labels.shape,labels.shape"
   ]
  },
  {
   "cell_type": "markdown",
   "id": "d17b11f2",
   "metadata": {},
   "source": [
    "### 第二步：构造模型"
   ]
  },
  {
   "cell_type": "code",
   "execution_count": 3,
   "id": "b861d928",
   "metadata": {},
   "outputs": [
    {
     "name": "stdout",
     "output_type": "stream",
     "text": [
      "Model:\n",
      "Layer 1:  Conv2D(in_channels=1,out_channels=4,kernel_size=5,stride=1,padding=0) kernel : [4,5,5]  num_params：104 \n",
      "Layer 2: LayerNorm()\n",
      "Layer 3:  ReLU() \n",
      "Layer 4:  Pooling(in_channels=4,window_size=2,stride=2,mode=MaxPooling)   \n",
      "Layer 5:  Conv2D(in_channels=4,out_channels=4,kernel_size=3,stride=1,padding=1) kernel : [4,3,3]  num_params：40 \n",
      "Layer 6: LayerNorm()\n",
      "Layer 7:  ReLU() \n",
      "Layer 8:  Conv2D(in_channels=4,out_channels=4,kernel_size=3,stride=1,padding=1) kernel : [4,3,3]  num_params：40 \n",
      "Layer 9: LayerNorm()\n",
      "Layer 10: ResAdd()\n",
      "Layer 11:  Conv2D(in_channels=4,out_channels=4,kernel_size=5,stride=1,padding=0) kernel : [4,5,5]  num_params：104 \n",
      "Layer 12:  Pooling(in_channels=4,window_size=4,stride=4,mode=AveragePooling)   \n",
      "Layer 13:  Linear(16,10)   num_params：170 \n",
      "Total params：458\n"
     ]
    }
   ],
   "source": [
    "model=nn.ResNet_simple(in_channels=1)\n",
    "print(model)"
   ]
  },
  {
   "cell_type": "markdown",
   "id": "a3ddaf5a",
   "metadata": {},
   "source": [
    "#### 构造完整计算图：输入输出节点，模型，损失"
   ]
  },
  {
   "cell_type": "code",
   "execution_count": 4,
   "id": "4109c786",
   "metadata": {},
   "outputs": [],
   "source": [
    "x=nn.to_tensor(size=(28,28))\n",
    "label=nn.to_tensor(size=(1,10))\n",
    "out=model(x)\n",
    "predict=nn.Softmax(out)\n",
    "loss=nn.CrossEntropyLoss(out,label)"
   ]
  },
  {
   "cell_type": "markdown",
   "id": "f9658686",
   "metadata": {},
   "source": [
    "### 第三步：选择并初始化优化器 "
   ]
  },
  {
   "cell_type": "code",
   "execution_count": 5,
   "id": "f7815484",
   "metadata": {},
   "outputs": [],
   "source": [
    "learning_rate = 0.01\n",
    "optimizer = nn.Adam(nn.default_graph, loss, learning_rate=learning_rate)"
   ]
  },
  {
   "cell_type": "markdown",
   "id": "cadbf02b",
   "metadata": {},
   "source": [
    "###  第四步：开始训练  \n",
    "本框架慢的离谱，就拿16个样本跑通试一试 "
   ]
  },
  {
   "cell_type": "code",
   "execution_count": 6,
   "id": "22ea2dbc",
   "metadata": {},
   "outputs": [
    {
     "name": "stdout",
     "output_type": "stream",
     "text": [
      "epoch:1 accuracy:0.125\n",
      "epoch:2 accuracy:0.125\n",
      "epoch:3 accuracy:0.25\n",
      "epoch:4 accuracy:0.1875\n",
      "epoch:5 accuracy:0.1875\n",
      "epoch:6 accuracy:0.125\n",
      "epoch:7 accuracy:0.0625\n",
      "epoch:8 accuracy:0.125\n",
      "epoch:9 accuracy:0.125\n",
      "epoch:10 accuracy:0.25\n",
      "epoch:11 accuracy:0.25\n",
      "epoch:12 accuracy:0.25\n",
      "epoch:13 accuracy:0.25\n",
      "epoch:14 accuracy:0.25\n",
      "epoch:15 accuracy:0.375\n",
      "epoch:16 accuracy:0.4375\n",
      "epoch:17 accuracy:0.5\n",
      "epoch:18 accuracy:0.5\n",
      "epoch:19 accuracy:0.5625\n",
      "epoch:20 accuracy:0.5625\n"
     ]
    }
   ],
   "source": [
    "epochs = 20\n",
    "batch_size = 4\n",
    "\n",
    "for epoch in range(epochs):\n",
    "    N = 16\n",
    "    count = 0\n",
    "    # 遍历样本训练\n",
    "    for i in range(N):\n",
    "        x.set_value(train_x[i].reshape(28,28))\n",
    "        label.set_value(labels[i])\n",
    "        optimizer.one_step()\n",
    "        count+=1\n",
    "        if count >= batch_size:\n",
    "            optimizer.update()\n",
    "            count=0\n",
    "    # 遍历样本求准确率\n",
    "    pred=[]\n",
    "    for i in range(N):\n",
    "        x.set_value(train_x[i].reshape(28,28))\n",
    "        label.set_value(labels[i])\n",
    "        predict.forward()\n",
    "        pred.append(predict.value.flatten())\n",
    "    temp=(cp.array(pred).argmax(axis=1) == number_labels[:N])\n",
    "    accuracy=temp.sum()/N\n",
    "    print(\"epoch:{} accuracy:{}\".format(epoch+1,accuracy))"
   ]
  }
 ],
 "metadata": {
  "kernelspec": {
   "display_name": "mynet38",
   "language": "python",
   "name": "mynet38"
  },
  "language_info": {
   "codemirror_mode": {
    "name": "ipython",
    "version": 3
   },
   "file_extension": ".py",
   "mimetype": "text/x-python",
   "name": "python",
   "nbconvert_exporter": "python",
   "pygments_lexer": "ipython3",
   "version": "3.8.16"
  }
 },
 "nbformat": 4,
 "nbformat_minor": 5
}
