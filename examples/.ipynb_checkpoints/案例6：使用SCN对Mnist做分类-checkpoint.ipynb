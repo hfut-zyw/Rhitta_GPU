{
 "cells": [
  {
   "cell_type": "markdown",
   "id": "5cb6812a",
   "metadata": {},
   "source": [
    "# 案例6：使用SCN对Mnist做分类"
   ]
  },
  {
   "cell_type": "code",
   "execution_count": 1,
   "id": "e772450d",
   "metadata": {},
   "outputs": [],
   "source": [
    "import sys\n",
    "sys.path.append(r\"D:\\Rhitta_GPU\")\n",
    "import numpy as np\n",
    "import cupy as cp\n",
    "import rhitta.nn as nn\n",
    "from sklearn.preprocessing import OneHotEncoder\n",
    "onehot_encoder = OneHotEncoder(sparse_output=False)"
   ]
  },
  {
   "cell_type": "markdown",
   "id": "d6f26970",
   "metadata": {},
   "source": [
    "### 第一步：载入数据集"
   ]
  },
  {
   "cell_type": "code",
   "execution_count": 2,
   "id": "fb01fefc",
   "metadata": {},
   "outputs": [
    {
     "data": {
      "text/plain": [
       "((60000, 784), (60000,), (60000, 10))"
      ]
     },
     "execution_count": 2,
     "metadata": {},
     "output_type": "execute_result"
    }
   ],
   "source": [
    "loader=nn.MnistLoader()\n",
    "train_x,number_labels=loader.load(r\"D:\\Rhitta_GPU\\data\\dataset\")\n",
    "labels = cp.array(onehot_encoder.fit_transform(cp.asnumpy(number_labels).reshape(-1, 1)))\n",
    "\n",
    "train_x.shape,number_labels.shape,labels.shape"
   ]
  },
  {
   "cell_type": "markdown",
   "id": "e6e02405",
   "metadata": {},
   "source": [
    "### 第二步：构造模型"
   ]
  },
  {
   "cell_type": "code",
   "execution_count": 3,
   "id": "90e09174",
   "metadata": {},
   "outputs": [
    {
     "name": "stdout",
     "output_type": "stream",
     "text": [
      "Model:\n",
      "Layer 1:  Conv2D(in_channels=1,out_channels=3,kernel_size=5,stride=1,padding=0) kernel : [3,5,5]  num_params：78 \n",
      "Layer 2: LayerNorm()\n",
      "Layer 3:  ReLU() \n",
      "Layer 4:  Pooling(in_channels=3,window_size=2,stride=2,mode=MaxPooling)   \n",
      "Layer 5:  Conv2D(in_channels=3,out_channels=5,kernel_size=3,stride=1,padding=0) kernel : [5,3,3]  num_params：50 \n",
      "Layer 6: LayerNorm()\n",
      "Layer 7:  ReLU() \n",
      "Layer 8:  Pooling(in_channels=5,window_size=2,stride=2,mode=AveragePooling)   \n",
      "Layer 9:  Conv2D(in_channels=5,out_channels=20,kernel_size=5,stride=1,padding=0) kernel : [20,5,5]  num_params：520 \n",
      "Layer 10:  Linear(20,10)   num_params：210 \n",
      "Total params：858\n"
     ]
    }
   ],
   "source": [
    "model=nn.SCN(in_channels=1)\n",
    "print(model)"
   ]
  },
  {
   "cell_type": "markdown",
   "id": "1e8c5ff7",
   "metadata": {},
   "source": [
    "#### 构造完整计算图：输入输出节点，模型，损失"
   ]
  },
  {
   "cell_type": "code",
   "execution_count": 4,
   "id": "c43ec6e0",
   "metadata": {},
   "outputs": [],
   "source": [
    "x=nn.to_tensor(size=(28,28))\n",
    "label=nn.to_tensor(size=(1,10))\n",
    "out=model(x)\n",
    "predict=nn.Softmax(out)\n",
    "loss=nn.CrossEntropyLoss(out,label)"
   ]
  },
  {
   "cell_type": "markdown",
   "id": "d2866599",
   "metadata": {},
   "source": [
    "### 第三步：选择并初始化优化器 "
   ]
  },
  {
   "cell_type": "code",
   "execution_count": 5,
   "id": "56604282",
   "metadata": {},
   "outputs": [],
   "source": [
    "learning_rate = 0.01\n",
    "optimizer = nn.Adam(nn.default_graph, loss, learning_rate=learning_rate)"
   ]
  },
  {
   "cell_type": "markdown",
   "id": "96a8a93c",
   "metadata": {},
   "source": [
    "###  第四步：开始训练"
   ]
  },
  {
   "cell_type": "code",
   "execution_count": 6,
   "id": "5b328b0d",
   "metadata": {},
   "outputs": [
    {
     "name": "stdout",
     "output_type": "stream",
     "text": [
      "epoch:1 accuracy:0.18\n",
      "epoch:2 accuracy:0.2\n",
      "epoch:3 accuracy:0.24\n",
      "epoch:4 accuracy:0.3\n",
      "epoch:5 accuracy:0.36\n",
      "epoch:6 accuracy:0.52\n",
      "epoch:7 accuracy:0.54\n",
      "epoch:8 accuracy:0.5\n",
      "epoch:9 accuracy:0.52\n",
      "epoch:10 accuracy:0.54\n",
      "epoch:11 accuracy:0.66\n",
      "epoch:12 accuracy:0.72\n",
      "epoch:13 accuracy:0.76\n",
      "epoch:14 accuracy:0.72\n",
      "epoch:15 accuracy:0.8\n",
      "epoch:16 accuracy:0.88\n",
      "epoch:17 accuracy:0.86\n",
      "epoch:18 accuracy:0.88\n",
      "epoch:19 accuracy:0.9\n",
      "epoch:20 accuracy:0.78\n"
     ]
    }
   ],
   "source": [
    "epochs = 20\n",
    "batch_size = 4\n",
    "\n",
    "for epoch in range(epochs):\n",
    "    N = 50\n",
    "    count = 0\n",
    "    # 遍历样本训练\n",
    "    for i in range(N):\n",
    "        x.set_value(train_x[i].reshape(28,28))\n",
    "        label.set_value(labels[i])\n",
    "        optimizer.one_step()\n",
    "        count+=1\n",
    "        if count >= batch_size:\n",
    "            optimizer.update()\n",
    "            count=0\n",
    "    # 遍历样本求准确率\n",
    "    pred=[]\n",
    "    for i in range(N):\n",
    "        x.set_value(train_x[i].reshape(28,28))\n",
    "        label.set_value(labels[i])\n",
    "        predict.forward()\n",
    "        pred.append(predict.value.flatten())\n",
    "    temp=(cp.array(pred).argmax(axis=1) == number_labels[:N])\n",
    "    accuracy=temp.sum()/N\n",
    "    print(\"epoch:{} accuracy:{}\".format(epoch+1,accuracy))\n",
    "        "
   ]
  }
 ],
 "metadata": {
  "kernelspec": {
   "display_name": "mynet38",
   "language": "python",
   "name": "mynet38"
  },
  "language_info": {
   "codemirror_mode": {
    "name": "ipython",
    "version": 3
   },
   "file_extension": ".py",
   "mimetype": "text/x-python",
   "name": "python",
   "nbconvert_exporter": "python",
   "pygments_lexer": "ipython3",
   "version": "3.8.16"
  }
 },
 "nbformat": 4,
 "nbformat_minor": 5
}
