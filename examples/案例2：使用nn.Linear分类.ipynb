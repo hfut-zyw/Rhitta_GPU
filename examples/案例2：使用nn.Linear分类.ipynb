{
 "cells": [
  {
   "cell_type": "markdown",
   "id": "27567fc8",
   "metadata": {},
   "source": [
    "# 案例2：使用nn.Linear分类"
   ]
  },
  {
   "cell_type": "code",
   "execution_count": 1,
   "id": "593e7696",
   "metadata": {},
   "outputs": [],
   "source": [
    "import sys\n",
    "sys.path.append(r\"D:\\Rhitta_GPU\")\n",
    "import cupy as cp\n",
    "import numpy as np\n",
    "import pandas as pd\n",
    "from sklearn.preprocessing import LabelEncoder, OneHotEncoder\n",
    "import rhitta.nn as nn\n",
    "import matplotlib.pyplot as plt"
   ]
  },
  {
   "cell_type": "markdown",
   "id": "c79cb6c4",
   "metadata": {},
   "source": [
    "### 第一步：读取数据集"
   ]
  },
  {
   "cell_type": "code",
   "execution_count": 2,
   "id": "961c1c6d",
   "metadata": {},
   "outputs": [
    {
     "data": {
      "text/html": [
       "<div>\n",
       "<style scoped>\n",
       "    .dataframe tbody tr th:only-of-type {\n",
       "        vertical-align: middle;\n",
       "    }\n",
       "\n",
       "    .dataframe tbody tr th {\n",
       "        vertical-align: top;\n",
       "    }\n",
       "\n",
       "    .dataframe thead th {\n",
       "        text-align: right;\n",
       "    }\n",
       "</style>\n",
       "<table border=\"1\" class=\"dataframe\">\n",
       "  <thead>\n",
       "    <tr style=\"text-align: right;\">\n",
       "      <th></th>\n",
       "      <th>SepalLengthCm</th>\n",
       "      <th>SepalWidthCm</th>\n",
       "      <th>PetalLengthCm</th>\n",
       "      <th>PetalWidthCm</th>\n",
       "      <th>Species</th>\n",
       "    </tr>\n",
       "    <tr>\n",
       "      <th>Id</th>\n",
       "      <th></th>\n",
       "      <th></th>\n",
       "      <th></th>\n",
       "      <th></th>\n",
       "      <th></th>\n",
       "    </tr>\n",
       "  </thead>\n",
       "  <tbody>\n",
       "    <tr>\n",
       "      <th>1</th>\n",
       "      <td>5.1</td>\n",
       "      <td>3.5</td>\n",
       "      <td>1.4</td>\n",
       "      <td>0.2</td>\n",
       "      <td>Iris-setosa</td>\n",
       "    </tr>\n",
       "    <tr>\n",
       "      <th>2</th>\n",
       "      <td>4.9</td>\n",
       "      <td>3.0</td>\n",
       "      <td>1.4</td>\n",
       "      <td>0.2</td>\n",
       "      <td>Iris-setosa</td>\n",
       "    </tr>\n",
       "    <tr>\n",
       "      <th>3</th>\n",
       "      <td>4.7</td>\n",
       "      <td>3.2</td>\n",
       "      <td>1.3</td>\n",
       "      <td>0.2</td>\n",
       "      <td>Iris-setosa</td>\n",
       "    </tr>\n",
       "    <tr>\n",
       "      <th>4</th>\n",
       "      <td>4.6</td>\n",
       "      <td>3.1</td>\n",
       "      <td>1.5</td>\n",
       "      <td>0.2</td>\n",
       "      <td>Iris-setosa</td>\n",
       "    </tr>\n",
       "    <tr>\n",
       "      <th>5</th>\n",
       "      <td>5.0</td>\n",
       "      <td>3.6</td>\n",
       "      <td>1.4</td>\n",
       "      <td>0.2</td>\n",
       "      <td>Iris-setosa</td>\n",
       "    </tr>\n",
       "    <tr>\n",
       "      <th>...</th>\n",
       "      <td>...</td>\n",
       "      <td>...</td>\n",
       "      <td>...</td>\n",
       "      <td>...</td>\n",
       "      <td>...</td>\n",
       "    </tr>\n",
       "    <tr>\n",
       "      <th>146</th>\n",
       "      <td>6.7</td>\n",
       "      <td>3.0</td>\n",
       "      <td>5.2</td>\n",
       "      <td>2.3</td>\n",
       "      <td>Iris-virginica</td>\n",
       "    </tr>\n",
       "    <tr>\n",
       "      <th>147</th>\n",
       "      <td>6.3</td>\n",
       "      <td>2.5</td>\n",
       "      <td>5.0</td>\n",
       "      <td>1.9</td>\n",
       "      <td>Iris-virginica</td>\n",
       "    </tr>\n",
       "    <tr>\n",
       "      <th>148</th>\n",
       "      <td>6.5</td>\n",
       "      <td>3.0</td>\n",
       "      <td>5.2</td>\n",
       "      <td>2.0</td>\n",
       "      <td>Iris-virginica</td>\n",
       "    </tr>\n",
       "    <tr>\n",
       "      <th>149</th>\n",
       "      <td>6.2</td>\n",
       "      <td>3.4</td>\n",
       "      <td>5.4</td>\n",
       "      <td>2.3</td>\n",
       "      <td>Iris-virginica</td>\n",
       "    </tr>\n",
       "    <tr>\n",
       "      <th>150</th>\n",
       "      <td>5.9</td>\n",
       "      <td>3.0</td>\n",
       "      <td>5.1</td>\n",
       "      <td>1.8</td>\n",
       "      <td>Iris-virginica</td>\n",
       "    </tr>\n",
       "  </tbody>\n",
       "</table>\n",
       "<p>150 rows × 5 columns</p>\n",
       "</div>"
      ],
      "text/plain": [
       "     SepalLengthCm  SepalWidthCm  PetalLengthCm  PetalWidthCm         Species\n",
       "Id                                                                           \n",
       "1              5.1           3.5            1.4           0.2     Iris-setosa\n",
       "2              4.9           3.0            1.4           0.2     Iris-setosa\n",
       "3              4.7           3.2            1.3           0.2     Iris-setosa\n",
       "4              4.6           3.1            1.5           0.2     Iris-setosa\n",
       "5              5.0           3.6            1.4           0.2     Iris-setosa\n",
       "..             ...           ...            ...           ...             ...\n",
       "146            6.7           3.0            5.2           2.3  Iris-virginica\n",
       "147            6.3           2.5            5.0           1.9  Iris-virginica\n",
       "148            6.5           3.0            5.2           2.0  Iris-virginica\n",
       "149            6.2           3.4            5.4           2.3  Iris-virginica\n",
       "150            5.9           3.0            5.1           1.8  Iris-virginica\n",
       "\n",
       "[150 rows x 5 columns]"
      ]
     },
     "execution_count": 2,
     "metadata": {},
     "output_type": "execute_result"
    }
   ],
   "source": [
    "data = pd.read_csv(\"../data/dataset/Iris.csv\", header=0, index_col=\"Id\")\n",
    "data"
   ]
  },
  {
   "cell_type": "code",
   "execution_count": 3,
   "id": "435eef3a",
   "metadata": {},
   "outputs": [
    {
     "data": {
      "text/plain": [
       "(array([[5.1, 3.5, 1.4, 0.2],\n",
       "        [4.9, 3. , 1.4, 0.2],\n",
       "        [4.7, 3.2, 1.3, 0.2]]),\n",
       " array([[1., 0., 0.],\n",
       "        [1., 0., 0.],\n",
       "        [1., 0., 0.]]))"
      ]
     },
     "execution_count": 3,
     "metadata": {},
     "output_type": "execute_result"
    }
   ],
   "source": [
    "labelencoder = LabelEncoder()\n",
    "onehotencoder = OneHotEncoder(sparse_output=False)\n",
    "# 把类别编码为数字标签\n",
    "number_labels = labelencoder.fit_transform(data[\"Species\"].values)\n",
    "# 再把数字标签转换为one-hot向量\n",
    "labels = onehotencoder.fit_transform(number_labels.reshape(-1, 1))\n",
    "# 取出前4列特征\n",
    "features = data.iloc[:, 0:4].values\n",
    "# 打印前3个样本\n",
    "features[:3,:],labels[:3,:]"
   ]
  },
  {
   "cell_type": "code",
   "execution_count": 4,
   "id": "de57c9f0",
   "metadata": {},
   "outputs": [
    {
     "data": {
      "text/plain": [
       "((150,), (150, 4), (150, 3))"
      ]
     },
     "execution_count": 4,
     "metadata": {},
     "output_type": "execute_result"
    }
   ],
   "source": [
    "# 把需要用到的数据转换为cupy.ndarray格式\n",
    "number_labels = cp.array(number_labels)\n",
    "features = cp.array(features)\n",
    "labels = cp.array(labels)\n",
    "number_labels.shape,features.shape,labels.shape"
   ]
  },
  {
   "cell_type": "markdown",
   "id": "62c7c13a",
   "metadata": {},
   "source": [
    "### 第二步：构造模型并初始化"
   ]
  },
  {
   "cell_type": "code",
   "execution_count": 5,
   "id": "fd17de7a",
   "metadata": {},
   "outputs": [],
   "source": [
    "class zyw(nn.Module):\n",
    "\n",
    "    # 实例化，初始化模型参数\n",
    "    def __init__(self):\n",
    "        super(zyw, self).__init__()\n",
    "        self.fc1 = nn.Linear(input_size=4, output_size=6)\n",
    "        self.fc2 = nn.Linear(input_size=6, output_size=3)\n",
    "\n",
    "    # 构造计算图\n",
    "    def __call__(self, inputs):\n",
    "        x = self.fc1(inputs)\n",
    "        x = self.fc2(x)\n",
    "        return x\n",
    "model = zyw()"
   ]
  },
  {
   "cell_type": "markdown",
   "id": "56e76a5b",
   "metadata": {},
   "source": [
    "### 第三步：构造计算图"
   ]
  },
  {
   "cell_type": "code",
   "execution_count": 6,
   "id": "62a775fb",
   "metadata": {},
   "outputs": [],
   "source": [
    "# 输入节点，标签节点\n",
    "x = nn.to_tensor(size=(1, 4))\n",
    "y = nn.to_tensor(size=(1, 3))"
   ]
  },
  {
   "cell_type": "code",
   "execution_count": 7,
   "id": "4d28805f",
   "metadata": {},
   "outputs": [],
   "source": [
    "# 将x,y丢进模型，构建计算图\n",
    "output = model(x) \n",
    "predict = nn.Softmax(output)\n",
    "loss = nn.CrossEntropyLoss(output, y) "
   ]
  },
  {
   "cell_type": "markdown",
   "id": "d637f386",
   "metadata": {},
   "source": [
    "### 第四步：初始化优化器"
   ]
  },
  {
   "cell_type": "code",
   "execution_count": 8,
   "id": "ad83b9a7",
   "metadata": {},
   "outputs": [],
   "source": [
    "learning_rate = 0.01\n",
    "optimizer = nn.Adam(nn.default_graph, loss, learning_rate=learning_rate)"
   ]
  },
  {
   "cell_type": "markdown",
   "id": "b7cdfee6",
   "metadata": {},
   "source": [
    "### 第五步：开始训练、评估  "
   ]
  },
  {
   "cell_type": "code",
   "execution_count": 9,
   "id": "89e5e14a",
   "metadata": {},
   "outputs": [
    {
     "name": "stdout",
     "output_type": "stream",
     "text": [
      "epoch:0 , accuracy:0.6666666666666666\n",
      "epoch:10 , accuracy:0.78\n",
      "epoch:20 , accuracy:0.8533333333333334\n",
      "epoch:30 , accuracy:0.9\n",
      "epoch:40 , accuracy:0.94\n",
      "epoch:50 , accuracy:0.9533333333333334\n",
      "epoch:60 , accuracy:0.9533333333333334\n",
      "epoch:70 , accuracy:0.96\n",
      "epoch:80 , accuracy:0.9666666666666667\n",
      "epoch:90 , accuracy:0.9666666666666667\n"
     ]
    },
    {
     "data": {
      "image/png": "[encoded data removed]",
      "text/plain": [
       "<Figure size 640x480 with 1 Axes>"
      ]
     },
     "metadata": {},
     "output_type": "display_data"
    }
   ],
   "source": [
    "batch_size = 16\n",
    "epochs = 100\n",
    "\n",
    "plt.figure()\n",
    "plt.subplot()\n",
    "plt.axis(xmin=0,xmax=epochs)\n",
    "axis_x=[]\n",
    "axis_y=[]\n",
    "\n",
    "for epoch in range(epochs):\n",
    "    count = 0\n",
    "    N = len(features)\n",
    "\n",
    "    # 训练\n",
    "    overall_loss=0\n",
    "    for i in range(N):\n",
    "        # 填坑，前向反向传播\n",
    "        x.set_value(features[i, :])\n",
    "        y.set_value(labels[i, :])\n",
    "        optimizer.one_step()  \n",
    "        # 累加样本损失\n",
    "        overall_loss += loss.value\n",
    "        # 更新计数器，达到batch_size后更新参数\n",
    "        # 对于最后一批，数量不够16，是不能执行update的，一直到外层for循环结束\n",
    "        count += 1\n",
    "        if count >= batch_size:  \n",
    "            optimizer.update()  \n",
    "            count = 0\n",
    "            \n",
    "    # 绘制loss曲线\n",
    "    axis_x.append(epoch)\n",
    "    axis_y.append(cp.asnumpy(overall_loss))\n",
    "    plt.plot(axis_x,axis_y)\n",
    "\n",
    "    #每个epoch后评估模型的准确率\n",
    "    pred = []\n",
    "    for i in range(N):\n",
    "        x.set_value(features[i, :])\n",
    "        y.set_value(labels[i, :])\n",
    "        predict.forward()\n",
    "        pred.append(predict.value.flatten())           # pred.append([0.8,0.1,0.1])\n",
    "    pred = cp.array(pred).argmax(axis=1)       # 每一行变成预测的类别数字\n",
    "    accuracy = (number_labels == pred).sum()/N  # 全部的预测和全部的标签对比，计算准确率\n",
    "    if epoch%10 == 0:\n",
    "        print(\"epoch:{} , accuracy:{}\".format(epoch,accuracy))\n",
    "\n",
    "    \n"
   ]
  }
 ],
 "metadata": {
  "kernelspec": {
   "display_name": "mynet38",
   "language": "python",
   "name": "mynet38"
  },
  "language_info": {
   "codemirror_mode": {
    "name": "ipython",
    "version": 3
   },
   "file_extension": ".py",
   "mimetype": "text/x-python",
   "name": "python",
   "nbconvert_exporter": "python",
   "pygments_lexer": "ipython3",
   "version": "3.8.16"
  }
 },
 "nbformat": 4,
 "nbformat_minor": 5
}
